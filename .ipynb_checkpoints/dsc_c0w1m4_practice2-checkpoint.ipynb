{
  "nbformat": 4,
  "nbformat_minor": 0,
  "metadata": {
    "colab": {
      "provenance": []
    },
    "kernelspec": {
      "name": "python3",
      "display_name": "Python 3"
    },
    "language_info": {
      "name": "python"
    }
  },
  "cells": [
    {
      "cell_type": "markdown",
      "source": [
        "# Practice for Matplotlib"
      ],
      "metadata": {
        "id": "Q22zW4syLLGc"
      }
    },
    {
      "cell_type": "markdown",
      "source": [
        "1. Import the appropriate libraries and create the data given below."
      ],
      "metadata": {
        "id": "wS_-J0FkLOR9"
      }
    },
    {
      "cell_type": "code",
      "execution_count": null,
      "metadata": {
        "id": "IGXyRze6LKWU"
      },
      "outputs": [],
      "source": [
        "# import germane libraries\n",
        "\n",
        "\n",
        "# data\n",
        "data = pd.DataFrame({\n",
        "    'Date': ['2022-01-01', '2022-01-02', '2022-01-03', '2022-01-04', '2022-01-05',\n",
        "             '2022-01-06', '2022-01-07', '2022-01-08', '2022-01-09', '2022-01-10',\n",
        "             '2022-01-11', '2022-01-12', '2022-01-13', '2022-01-14', '2022-01-15',\n",
        "             '2022-01-16', '2022-01-17', '2022-01-18', '2022-01-19', '2022-01-20'],\n",
        "    'Category': ['Electronics', 'Clothing', 'Home', 'Electronics', 'Clothing',\n",
        "                 'Home', 'Electronics', 'Clothing', 'Home', 'Electronics',\n",
        "                 'Clothing', 'Home', 'Electronics', 'Clothing', 'Home',\n",
        "                 'Electronics', 'Clothing', 'Home', 'Electronics', 'Clothing'],\n",
        "    'Quantity': [10, 5, 8, 20, 7, 6, 9, 11, 4, 13, 6, 9, 8, 5, 7, 11, 9, 6, 10, 8],\n",
        "    'Revenue': [1000, 250, 600, 1200, 350, 450, 900, 550, 300, 1300, 300, 675, 800, 250, 525, 1100, 450, 450, 1000, 400]\n",
        "})\n"
      ]
    },
    {
      "cell_type": "markdown",
      "source": [
        "2. Create a bar chart to visualize the revenue by product category.\n",
        "- Label the axes and title appropriately\n",
        "- Create a new variable called ‘category_revenure’ using this code\n",
        " - `category_revenue = data.groupby('Category')['Revenue'].sum()`\n",
        "- Which of the product categories has the greatest amount of revenue?\n"
      ],
      "metadata": {
        "id": "S5eZugCFLTbM"
      }
    },
    {
      "cell_type": "code",
      "source": [
        "# Your code here"
      ],
      "metadata": {
        "id": "AkWeJb7LLhSC"
      },
      "execution_count": null,
      "outputs": []
    },
    {
      "cell_type": "markdown",
      "source": [
        "3. Create a histogram to visualize the distribution of revenue.\n",
        "- Label the axes and title appropriately\n",
        "- How would you describe the shape of the distribution?\n"
      ],
      "metadata": {
        "id": "sMJtwk43LmCI"
      }
    },
    {
      "cell_type": "code",
      "source": [
        "# Your code here"
      ],
      "metadata": {
        "id": "6MgnZ0ncLoXA"
      },
      "execution_count": null,
      "outputs": []
    },
    {
      "cell_type": "markdown",
      "source": [
        "4. Create a scatter plot to visualize the relationship between quantity sold and revenue.\n",
        "- Label the axes and title appropriately\n",
        "- How would you describe the overall trend of the data?"
      ],
      "metadata": {
        "id": "oBF-TeX5LqIv"
      }
    },
    {
      "cell_type": "code",
      "source": [
        "# Your code here"
      ],
      "metadata": {
        "id": "vYWCetVSLvG9"
      },
      "execution_count": null,
      "outputs": []
    },
    {
      "cell_type": "markdown",
      "source": [
        "5. Create a boxplot to visualize the quantity sold.\n",
        "- Label the axes and title appropriately\n",
        "- Do you notice any extreme values (possible outliers)?"
      ],
      "metadata": {
        "id": "cKd8aqnFLw9l"
      }
    },
    {
      "cell_type": "code",
      "source": [
        "# Your code here"
      ],
      "metadata": {
        "id": "2ow7a165L105"
      },
      "execution_count": null,
      "outputs": []
    }
  ]
}